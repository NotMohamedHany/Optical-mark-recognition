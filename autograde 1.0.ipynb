{
 "cells": [
  {
   "cell_type": "code",
   "execution_count": 2,
   "id": "608aef7d",
   "metadata": {},
   "outputs": [],
   "source": [
    "import cv2\n",
    "import numpy as np\n",
    "\n",
    "## TO STACK ALL THE IMAGES IN ONE WINDOW\n",
    "def stackImages(imgArray,scale,lables=[]):\n",
    "    rows = len(imgArray)\n",
    "    cols = len(imgArray[0])\n",
    "    rowsAvailable = isinstance(imgArray[0], list)\n",
    "    width = imgArray[0][0].shape[1]\n",
    "    height = imgArray[0][0].shape[0]\n",
    "    if rowsAvailable:\n",
    "        for x in range ( 0, rows):\n",
    "            for y in range(0, cols):\n",
    "                imgArray[x][y] = cv2.resize(imgArray[x][y], (0, 0), None, scale, scale)\n",
    "                if len(imgArray[x][y].shape) == 2: imgArray[x][y]= cv2.cvtColor( imgArray[x][y], cv2.COLOR_GRAY2BGR)\n",
    "        imageBlank = np.zeros((height, width, 3), np.uint8)\n",
    "        hor = [imageBlank]*rows\n",
    "        hor_con = [imageBlank]*rows\n",
    "        for x in range(0, rows):\n",
    "            hor[x] = np.hstack(imgArray[x])\n",
    "            hor_con[x] = np.concatenate(imgArray[x])\n",
    "        ver = np.vstack(hor)\n",
    "        ver_con = np.concatenate(hor)\n",
    "    else:\n",
    "        for x in range(0, rows):\n",
    "            imgArray[x] = cv2.resize(imgArray[x], (0, 0), None, scale, scale)\n",
    "            if len(imgArray[x].shape) == 2: imgArray[x] = cv2.cvtColor(imgArray[x], cv2.COLOR_GRAY2BGR)\n",
    "        hor= np.hstack(imgArray)\n",
    "        hor_con= np.concatenate(imgArray)\n",
    "        ver = hor\n",
    "    if len(lables) != 0:\n",
    "        eachImgWidth= int(ver.shape[1] / cols)\n",
    "        eachImgHeight = int(ver.shape[0] / rows)\n",
    "        #print(eachImgHeight)\n",
    "        for d in range(0, rows):\n",
    "            for c in range (0,cols):\n",
    "                cv2.rectangle(ver,(c*eachImgWidth,eachImgHeight*d),(c*eachImgWidth+len(lables[d][c])*13+27,30+eachImgHeight*d),(255,255,255),cv2.FILLED)\n",
    "                cv2.putText(ver,lables[d][c],(eachImgWidth*c+10,eachImgHeight*d+20),cv2.FONT_HERSHEY_COMPLEX,0.7,(255,0,255),2)\n",
    "    return ver\n",
    "\n",
    "def reorder(myPoints):\n",
    "\n",
    "    myPoints = myPoints.reshape((4, 2)) # REMOVE EXTRA BRACKET\n",
    "    print(myPoints)\n",
    "    myPointsNew = np.zeros((4, 1, 2), np.int32) # NEW MATRIX WITH ARRANGED POINTS\n",
    "    add = myPoints.sum(1)\n",
    "    print(add)\n",
    "    print(np.argmax(add))\n",
    "    myPointsNew[0] = myPoints[np.argmin(add)]  #[0,0]\n",
    "    myPointsNew[3] =myPoints[np.argmax(add)]   #[w,h]\n",
    "    diff = np.diff(myPoints, axis=1)\n",
    "    myPointsNew[1] =myPoints[np.argmin(diff)]  #[w,0]\n",
    "    myPointsNew[2] = myPoints[np.argmax(diff)] #[h,0]\n",
    "\n",
    "    return myPointsNew\n",
    "\n",
    "def rectContour(contours):\n",
    "\n",
    "    rectCon = []\n",
    "    max_area = 0\n",
    "    for i in contours:\n",
    "        area = cv2.contourArea(i)\n",
    "        if area > 50:\n",
    "            peri = cv2.arcLength(i, True)\n",
    "            approx = cv2.approxPolyDP(i, 0.02 * peri, True)\n",
    "            if len(approx) == 4:\n",
    "                rectCon.append(i)\n",
    "    rectCon = sorted(rectCon, key=cv2.contourArea,reverse=True)\n",
    "    #print(len(rectCon))\n",
    "    return rectCon\n",
    "\n",
    "def getCornerPoints(cont):\n",
    "    peri = cv2.arcLength(cont, True) # LENGTH OF CONTOUR\n",
    "    approx = cv2.approxPolyDP(cont, 0.02 * peri, True) # APPROXIMATE THE POLY TO GET CORNER POINTS\n",
    "    return approx\n",
    "\n",
    "def splitBoxes(img):\n",
    "    rows = np.vsplit(img,5)\n",
    "    boxes=[]\n",
    "    for r in rows:\n",
    "        cols= np.hsplit(r,5)\n",
    "        for box in cols:\n",
    "            boxes.append(box)\n",
    "    return boxes\n",
    "\n",
    "def drawGrid(img,questions=5,choices=5):\n",
    "    secW = int(img.shape[1]/questions)\n",
    "    secH = int(img.shape[0]/choices)\n",
    "    for i in range (0,9):\n",
    "        pt1 = (0,secH*i)\n",
    "        pt2 = (img.shape[1],secH*i)\n",
    "        pt3 = (secW * i, 0)\n",
    "        pt4 = (secW*i,img.shape[0])\n",
    "        cv2.line(img, pt1, pt2, (255, 255, 0),2)\n",
    "        cv2.line(img, pt3, pt4, (255, 255, 0),2)\n",
    "\n",
    "    return img\n",
    "\n",
    "def showAnswers(img,myIndex,grading,ans,questions=5,choices=5):\n",
    "     secW = int(img.shape[1]/questions)\n",
    "     secH = int(img.shape[0]/choices)\n",
    "\n",
    "     for x in range(0,questions):\n",
    "         myAns= myIndex[x]\n",
    "         cX = (myAns * secW) + secW // 2\n",
    "         cY = (x * secH) + secH // 2\n",
    "         if grading[x]==1:\n",
    "            myColor = (0,255,0)\n",
    "            #cv2.rectangle(img,(myAns*secW,x*secH),((myAns*secW)+secW,(x*secH)+secH),myColor,cv2.FILLED)\n",
    "            cv2.circle(img,(cX,cY),50,myColor,cv2.FILLED)\n",
    "         else:\n",
    "            myColor = (0,0,255)\n",
    "            #cv2.rectangle(img, (myAns * secW, x * secH), ((myAns * secW) + secW, (x * secH) + secH), myColor, cv2.FILLED)\n",
    "            cv2.circle(img, (cX, cY), 50, myColor, cv2.FILLED)\n",
    "\n",
    "            # CORRECT ANSWER\n",
    "            myColor = (0, 255, 0)\n",
    "            correctAns = ans[x]\n",
    "            cv2.circle(img,((correctAns * secW)+secW//2, (x * secH)+secH//2),\n",
    "            20,myColor,cv2.FILLED)"
   ]
  },
  {
   "cell_type": "code",
   "execution_count": 10,
   "id": "a89baf61",
   "metadata": {},
   "outputs": [],
   "source": [
    "import cv2\n",
    "import numpy as np\n",
    "\n",
    "\n",
    "\n",
    "pathImage =\"test1.jpg\"\n",
    "heightImg = 700\n",
    "widthImg  = 700\n",
    "questions=5\n",
    "choices=5\n",
    "ans= [1,2,0,2,4]"
   ]
  },
  {
   "cell_type": "markdown",
   "id": "6b008778",
   "metadata": {},
   "source": [
    "## 1 - applying basic preprocessing"
   ]
  },
  {
   "cell_type": "code",
   "execution_count": 11,
   "id": "5754b405",
   "metadata": {},
   "outputs": [],
   "source": [
    "img = cv2.imread(pathImage)\n",
    "img = cv2.resize(img, (widthImg, heightImg)) # RESIZE IMAGE\n",
    "imgFinal = img.copy()\n",
    "imgBlank = np.zeros((heightImg,widthImg, 3), np.uint8) # CREATE A BLANK IMAGE FOR TESTING DEBUGGING IF REQUIRED\n",
    "imgGray = cv2.cvtColor(img, cv2.COLOR_BGR2GRAY) # CONVERT IMAGE TO GRAY SCALE\n",
    "imgBlur = cv2.GaussianBlur(imgGray, (5, 5), 1) # ADD GAUSSIAN BLUR\n",
    "imgCanny = cv2.Canny(imgBlur,10,70)"
   ]
  },
  {
   "cell_type": "markdown",
   "id": "5aceda46",
   "metadata": {},
   "source": [
    "### 2 - finding contours"
   ]
  },
  {
   "cell_type": "code",
   "execution_count": 12,
   "id": "f9d3da77",
   "metadata": {},
   "outputs": [],
   "source": [
    "imgContours = img.copy() # COPY IMAGE FOR DISPLAY PURPOSES\n",
    "imgBigContour = img.copy() # COPY IMAGE FOR DISPLAY PURPOSES\n",
    "contours, hierarchy = cv2.findContours(imgCanny, cv2.RETR_EXTERNAL, cv2.CHAIN_APPROX_NONE) # FIND ALL CONTOURS\n",
    "cv2.drawContours(imgContours, contours, -1, (0, 255, 0), 10) # DRAW ALL DETECTED CONTOURS\n",
    "rectCon = rectContour(contours) # FILTER FOR RECTANGLE CONTOURS\n",
    "biggestPoints= getCornerPoints(rectCon[0]) # GET CORNER POINTS OF THE BIGGEST RECTANGLE\n",
    "gradePoints = getCornerPoints(rectCon[1]) # GET CORNER POINTS OF THE SECOND BIGGEST RECTANGLE"
   ]
  },
  {
   "cell_type": "markdown",
   "id": "ae03c3ef",
   "metadata": {},
   "source": [
    "### 3 - fetching the answers contour dimensions"
   ]
  },
  {
   "cell_type": "code",
   "execution_count": 13,
   "id": "3dda7abb",
   "metadata": {},
   "outputs": [
    {
     "name": "stdout",
     "output_type": "stream",
     "text": [
      "[[189 180]\n",
      " [189 479]\n",
      " [614 480]\n",
      " [614 179]]\n",
      "[ 369  668 1094  793]\n",
      "2\n",
      "[[371 519]\n",
      " [372 593]\n",
      " [613 592]\n",
      " [611 518]]\n",
      "[ 890  965 1205 1129]\n",
      "2\n"
     ]
    }
   ],
   "source": [
    "\n",
    "# BIGGEST RECTANGLE WARPING\n",
    "biggestPoints=reorder(biggestPoints) # REORDER FOR WARPING\n",
    "cv2.drawContours(imgBigContour, biggestPoints, -1, (0, 255, 0), 20) # DRAW THE BIGGEST CONTOUR\n",
    "pts1 = np.float32(biggestPoints) # PREPARE POINTS FOR WARP\n",
    "pts2 = np.float32([[0, 0],[widthImg, 0], [0, heightImg],[widthImg, heightImg]]) # PREPARE POINTS FOR WARP\n",
    "matrix = cv2.getPerspectiveTransform(pts1, pts2) # GET TRANSFORMATION MATRIX\n",
    "imgWarpColored = cv2.warpPerspective(img, matrix, (widthImg, heightImg)) # APPLY WARP PERSPECTIVE\n",
    "\n",
    "# SECOND BIGGEST RECTANGLE WARPING\n",
    "cv2.drawContours(imgBigContour, gradePoints, -1, (255, 0, 0), 20) # DRAW THE BIGGEST CONTOUR\n",
    "gradePoints = reorder(gradePoints) # REORDER FOR WARPING\n",
    "ptsG1 = np.float32(gradePoints)  # PREPARE POINTS FOR WARP\n",
    "ptsG2 = np.float32([[0, 0], [325, 0], [0, 150], [325, 150]])  # PREPARE POINTS FOR WARP\n",
    "matrixG = cv2.getPerspectiveTransform(ptsG1, ptsG2)# GET TRANSFORMATION MATRIX\n",
    "imgGradeDisplay = cv2.warpPerspective(img, matrixG, (325, 150)) # APPLY WARP PERSPECTIVE\n"
   ]
  },
  {
   "cell_type": "markdown",
   "id": "4651dd09",
   "metadata": {},
   "source": [
    "### 4 - applying thresholding"
   ]
  },
  {
   "cell_type": "code",
   "execution_count": 14,
   "id": "e8c77e03",
   "metadata": {},
   "outputs": [],
   "source": [
    "\n",
    "imgWarpGray = cv2.cvtColor(imgWarpColored,cv2.COLOR_BGR2GRAY) # CONVERT TO GRAYSCALE\n",
    "imgThresh = cv2.threshold(imgWarpGray, 170, 255,cv2.THRESH_BINARY_INV )[1] # APPLY THRESHOLD AND INVERSE\n"
   ]
  },
  {
   "cell_type": "code",
   "execution_count": 21,
   "id": "84cdbc09",
   "metadata": {},
   "outputs": [
    {
     "name": "stdout",
     "output_type": "stream",
     "text": [
      "[[8289. 2776. 2657. 2921. 3098.]\n",
      " [2580. 2117. 5351. 2217. 2439.]\n",
      " [2593. 6010. 1959. 2185. 2425.]\n",
      " [2634. 2148. 1971. 5559. 2486.]\n",
      " [5861. 2584. 2526. 2791. 3149.]]\n"
     ]
    }
   ],
   "source": [
    "boxes = splitBoxes(imgThresh) # GET INDIVIDUAL BOXES\n",
    "countR=0\n",
    "countC=0\n",
    "myPixelVal = np.zeros((questions,choices)) # TO STORE THE NON ZERO VALUES OF EACH BOX\n",
    "for image in boxes:\n",
    "    totalPixels = cv2.countNonZero(image)\n",
    "    myPixelVal[countR][countC]= totalPixels\n",
    "    countC += 1\n",
    "    if (countC==choices):countC=0;countR +=1\n",
    "print(myPixelVal)"
   ]
  },
  {
   "cell_type": "code",
   "execution_count": 16,
   "id": "abe1f1c1",
   "metadata": {},
   "outputs": [
    {
     "name": "stdout",
     "output_type": "stream",
     "text": [
      "USER ANSWERS [0, 2, 1, 3, 0]\n"
     ]
    }
   ],
   "source": [
    "myIndex=[]\n",
    "for x in range (0,questions):\n",
    "    arr = myPixelVal[x]\n",
    "    myIndexVal = np.where(arr == np.amax(arr))\n",
    "    myIndex.append(myIndexVal[0][0])\n",
    "print(\"USER ANSWERS\",myIndex)"
   ]
  },
  {
   "cell_type": "code",
   "execution_count": 17,
   "id": "cf97fccd",
   "metadata": {},
   "outputs": [
    {
     "name": "stdout",
     "output_type": "stream",
     "text": [
      "SCORE 20.0\n"
     ]
    }
   ],
   "source": [
    "grading=[]\n",
    "for x in range(0,questions):\n",
    "    if ans[x] == myIndex[x]:\n",
    "        grading.append(1)\n",
    "    else:\n",
    "        grading.append(0)\n",
    "score = (sum(grading)/questions)*100 \n",
    "print(\"SCORE\",score)"
   ]
  },
  {
   "cell_type": "code",
   "execution_count": 22,
   "id": "31aadf6f",
   "metadata": {},
   "outputs": [],
   "source": [
    "showAnswers(imgWarpColored,myIndex,grading,ans) # DRAW DETECTED ANSWERS\n",
    "drawGrid(imgWarpColored) # DRAW GRID\n",
    "imgRawDrawings = np.zeros_like(imgWarpColored) # NEW BLANK IMAGE WITH WARP IMAGE SIZE\n",
    "showAnswers(imgRawDrawings, myIndex, grading, ans) # DRAW ON NEW IMAGE\n",
    "invMatrix = cv2.getPerspectiveTransform(pts2, pts1) # INVERSE TRANSFORMATION MATRIX\n",
    "imgInvWarp = cv2.warpPerspective(imgRawDrawings, invMatrix, (widthImg, heightImg)) # INV IMAGE WARP\n",
    "\n",
    "# DISPLAY GRADE\n",
    "imgRawGrade = np.zeros_like(imgGradeDisplay,np.uint8) # NEW BLANK IMAGE WITH GRADE AREA SIZE\n",
    "cv2.putText(imgRawGrade,str(int(score))+\"%\",(70,100)\n",
    "        ,cv2.FONT_HERSHEY_COMPLEX,3,(0,255,255),3) # ADD THE GRADE TO NEW IMAGE\n",
    "invMatrixG = cv2.getPerspectiveTransform(ptsG2, ptsG1) # INVERSE TRANSFORMATION MATRIX\n",
    "imgInvGradeDisplay = cv2.warpPerspective(imgRawGrade, invMatrixG, (widthImg, heightImg)) # INV IMAGE WARP\n",
    "\n",
    "# SHOW ANSWERS AND GRADE ON FINAL IMAGE\n",
    "imgFinal = cv2.addWeighted(imgFinal, 1, imgInvWarp, 1,0)\n",
    "imgFinal = cv2.addWeighted(imgFinal, 1, imgInvGradeDisplay, 1,0)\n",
    "\n",
    "\n"
   ]
  },
  {
   "cell_type": "code",
   "execution_count": 27,
   "id": "65734237",
   "metadata": {},
   "outputs": [],
   "source": [
    "# IMAGE ARRAY FOR DISPLAY\n",
    "imageArray = ([img,imgGray,imgCanny,imgContours],\n",
    "            [imgBigContour,imgThresh,imgWarpColored,imgFinal])\n",
    "lables = [[\"Original\",\"Gray\",\"Edges\",\"Contours\"],\n",
    "              [\"Biggest Contour\",\"Threshold\",\"Warpped\",\"Final\"]]\n",
    "stackedImage = stackImages(imageArray,0.5,lables)\n",
    "\n",
    "\n",
    "while True:\n",
    "    cv2.imshow(\"Result\", stackedImage)\n",
    "\n",
    "    key = cv2.waitKey(1) & 0xFF\n",
    "    \n",
    "    if key == ord('q'):\n",
    "        break\n",
    "\n",
    "cv2.destroyAllWindows()"
   ]
  },
  {
   "cell_type": "markdown",
   "id": "e3830f3c",
   "metadata": {},
   "source": []
  }
 ],
 "metadata": {
  "kernelspec": {
   "display_name": "base",
   "language": "python",
   "name": "python3"
  },
  "language_info": {
   "codemirror_mode": {
    "name": "ipython",
    "version": 3
   },
   "file_extension": ".py",
   "mimetype": "text/x-python",
   "name": "python",
   "nbconvert_exporter": "python",
   "pygments_lexer": "ipython3",
   "version": "3.12.7"
  }
 },
 "nbformat": 4,
 "nbformat_minor": 5
}
